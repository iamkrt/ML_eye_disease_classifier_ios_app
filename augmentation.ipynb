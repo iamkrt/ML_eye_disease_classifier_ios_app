{
 "cells": [
  {
   "cell_type": "code",
   "execution_count": 4,
   "id": "4b8c76e6",
   "metadata": {},
   "outputs": [],
   "source": [
    "import cv2\n",
    "import Augmentor\n",
    "import shutil\n",
    "import os"
   ]
  },
  {
   "cell_type": "code",
   "execution_count": 5,
   "id": "97b712e7",
   "metadata": {},
   "outputs": [
    {
     "name": "stdout",
     "output_type": "stream",
     "text": [
      "************************Processing neg Directory*****************************\n",
      "Initialised with 386 image(s) found.\n",
      "Output directory set to neg/output."
     ]
    },
    {
     "name": "stderr",
     "output_type": "stream",
     "text": [
      "Processing <PIL.Image.Image image mode=RGB size=275x183 at 0x1254C6040>: 100%|█|\n"
     ]
    },
    {
     "name": "stdout",
     "output_type": "stream",
     "text": [
      "********************************************************************************\n",
      "************************Processing info Directory*****************************\n",
      "Initialised with 722 image(s) found.\n",
      "Output directory set to info/output."
     ]
    },
    {
     "name": "stderr",
     "output_type": "stream",
     "text": [
      "Processing <PIL.Image.Image image mode=RGB size=351x143 at 0x127070AF0>: 100%|█|\n"
     ]
    },
    {
     "name": "stdout",
     "output_type": "stream",
     "text": [
      "********************************************************************************\n",
      "************************Starting the resize process*****************************\n"
     ]
    }
   ],
   "source": [
    "def resize_img(im):\n",
    "        resized_img = cv2.resize(im, (256, 256))\n",
    "        return resized_img\n",
    "\n",
    "\n",
    "    # https://github.com/mdbloice/Augmentor\n",
    "def create_samples(dir):\n",
    "        p = Augmentor.Pipeline(dir)\n",
    "        # Point to a directory containing ground truth data.\n",
    "        # Images with the same file names will be added as ground truth data\n",
    "        # and augmented in parallel to the original data.\n",
    "        # p.ground_truth(\"/path/to/ground_truth_images\")\n",
    "        # Add operations to the pipeline as normal:\n",
    "        p.rotate(probability=1, max_left_rotation=5, max_right_rotation=5)\n",
    "        p.flip_left_right(probability=0.5)\n",
    "        p.zoom_random(probability=0.5, percentage_area=0.8)\n",
    "        p.flip_top_bottom(probability=0.5)\n",
    "        p.sample(1400)\n",
    "\n",
    "\n",
    "if __name__ == '__main__':\n",
    "        dir_list = ['neg', 'info']\n",
    "        dest = \"input_path\"\n",
    "        # lets create a sample of 1000 negative and 1000 positive Images\n",
    "        for img_dir in dir_list:\n",
    "            print(\"************************Processing {0} Directory*****************************\".format(img_dir))\n",
    "            create_samples(img_dir)\n",
    "            # Now lets move files created to input_path folder\n",
    "            source = img_dir + \"/output/\"\n",
    "            dest=dest+\"_{0}\".format(img_dir)\n",
    "            files = os.listdir(source)\n",
    "            for f in files:\n",
    "                shutil.move(source + f, dest)\n",
    "            dest = \"input_path\"\n",
    "            print(\"********************************************************************************\")\n",
    "\n",
    "        # # This loop will resize all imaes to 128*128*3\n",
    "        # for img_dir in dir_list:\n",
    "        #     # create_samples(img_dir)\n",
    "        print(\"************************Starting the resize process*****************************\".format(img_dir))\n",
    "        for root, dirs, files in os.walk(dest):\n",
    "            for file in files:\n",
    "                filefullpath = os.path.join(root, file)\n",
    "                if filefullpath.endswith('.jpg') or filefullpath.endswith('.JPG') or filefullpath.endswith('.png'):\n",
    "                    im_read = cv.imread(filefullpath)\n",
    "                    resized_img = resize_img(im_read)\n",
    "                    print(\"[INFO] Writing converted {0} file\".format(filefullpath))\n",
    "                    cv.imwrite(filefullpath, resized_img)"
   ]
  },
  {
   "cell_type": "code",
   "execution_count": null,
   "id": "e90d6423",
   "metadata": {},
   "outputs": [],
   "source": []
  }
 ],
 "metadata": {
  "kernelspec": {
   "display_name": "Python 3.9 (tensorflow)\nclear\n",
   "language": "python",
   "name": "tensorflow"
  },
  "language_info": {
   "codemirror_mode": {
    "name": "ipython",
    "version": 3
   },
   "file_extension": ".py",
   "mimetype": "text/x-python",
   "name": "python",
   "nbconvert_exporter": "python",
   "pygments_lexer": "ipython3",
   "version": "3.9.13"
  }
 },
 "nbformat": 4,
 "nbformat_minor": 5
}
